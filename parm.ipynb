{
  "cells": [
    {
      "cell_type": "markdown",
      "metadata": {
        "id": "view-in-github",
        "colab_type": "text"
      },
      "source": [
        "<a href=\"https://colab.research.google.com/github/nagnagg/googlemap_export/blob/main/parm.ipynb\" target=\"_parent\"><img src=\"https://colab.research.google.com/assets/colab-badge.svg\" alt=\"Open In Colab\"/></a>"
      ]
    },
    {
      "cell_type": "markdown",
      "metadata": {
        "id": "AfUl3MExh53q"
      },
      "source": [
        "*.py 実行時にパラメータ渡すプログラムにおいて、受け取り側に記述する、pyのサンプルコード<br>\n",
        "参考サイト：https://tommysblog.net/python/python-parameter-execute/\n",
        "\n",
        "*.pyでダウンロードして、Python実行環境に保存（Pathが通ってなければPython.exeと同じフォルダに保存し、コマンドプロンプトで同フォルダに移動したうえで、次のコマンドを実行。\n",
        "\n",
        "python parm.py a b c 100\n",
        "\n",
        "a b c 100 が引数として parm.py に渡される値。"
      ]
    },
    {
      "cell_type": "code",
      "execution_count": null,
      "metadata": {
        "id": "qsW62Nd2h53y"
      },
      "outputs": [],
      "source": [
        "import sys\n",
        "\n",
        "#関数定義\n",
        "def get_input_param():\n",
        "    #初期化\n",
        "    api_key = ''\n",
        "    keyword1 = ''\n",
        "    keyword2 = ''\n",
        "    radius = 0\n",
        "    \n",
        "    # 引数の取得\n",
        "    args = sys.argv\n",
        "    # 引数の個数が足りない場合\n",
        "    if 3 >= len(args):\n",
        "        result = False\n",
        "    else:\n",
        "        #足りた場合、受け取った0～の引数がargsに格納されているので、リスト№をargs[*]の*部分い指定して変数へ代入する。\n",
        "        result = True\n",
        "        api_key = args[1]\n",
        "        keyword1 = args[2]\n",
        "        keyword2 = args[3]\n",
        "        radius = args[4]\n",
        "    return api_key, keyword1, keyword2, radius, result"
      ]
    },
    {
      "cell_type": "code",
      "execution_count": null,
      "metadata": {
        "id": "0EL9Izdph531",
        "outputId": "3e2506be-71cc-4da5-df9e-445a650143df"
      },
      "outputs": [
        {
          "name": "stdout",
          "output_type": "stream",
          "text": [
            "Incorrect input.\n"
          ]
        }
      ],
      "source": [
        "if __name__ == '__main__':\n",
        "    api_key, keyword1, keyword2, radius, result = get_input_param()\n",
        "    if False == result:\n",
        "        print(\"Incorrect input.\")\n",
        "    else:\n",
        "        print(\"API Key: \" + api_key)\n",
        "        print(\"Keyword1: \" + keyword1)\n",
        "        print(\"Keyword2: \" + keyword2)\n",
        "        print(\"radius: \" + radius)"
      ]
    },
    {
      "cell_type": "code",
      "execution_count": null,
      "metadata": {
        "id": "sku59Me1h533"
      },
      "outputs": [],
      "source": [
        ""
      ]
    }
  ],
  "metadata": {
    "kernelspec": {
      "display_name": "Python 3",
      "language": "python",
      "name": "python3"
    },
    "language_info": {
      "codemirror_mode": {
        "name": "ipython",
        "version": 3
      },
      "file_extension": ".py",
      "mimetype": "text/x-python",
      "name": "python",
      "nbconvert_exporter": "python",
      "pygments_lexer": "ipython3",
      "version": "3.7.4"
    },
    "colab": {
      "name": "parm.ipynb",
      "provenance": [],
      "include_colab_link": true
    }
  },
  "nbformat": 4,
  "nbformat_minor": 0
}