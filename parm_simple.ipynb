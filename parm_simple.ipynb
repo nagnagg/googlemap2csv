{
  "cells": [
    {
      "cell_type": "markdown",
      "metadata": {
        "id": "view-in-github",
        "colab_type": "text"
      },
      "source": [
        "<a href=\"https://colab.research.google.com/github/nagnagg/googlemap_export/blob/main/parm_simple.ipynb\" target=\"_parent\"><img src=\"https://colab.research.google.com/assets/colab-badge.svg\" alt=\"Open In Colab\"/></a>"
      ]
    },
    {
      "cell_type": "markdown",
      "metadata": {
        "id": "M6F49awMj7s-"
      },
      "source": [
        "*.py に引数を渡して実行する、最もシンプルなコード<br>\n",
        "引用元：https://qiita.com/taashi/items/07bf75201a074e208ae5"
      ]
    },
    {
      "cell_type": "markdown",
      "metadata": {
        "id": "FG6wyrTDj7tI"
      },
      "source": [
        "import sys\n",
        "\n",
        "args = sys.argv\n",
        "\n",
        "print(args[0])\n",
        "print(args[1])\n",
        "print(args[2])"
      ]
    }
  ],
  "metadata": {
    "kernelspec": {
      "display_name": "Python 3",
      "language": "python",
      "name": "python3"
    },
    "language_info": {
      "codemirror_mode": {
        "name": "ipython",
        "version": 3
      },
      "file_extension": ".py",
      "mimetype": "text/x-python",
      "name": "python",
      "nbconvert_exporter": "python",
      "pygments_lexer": "ipython3",
      "version": "3.7.4"
    },
    "colab": {
      "name": "parm_simple.ipynb",
      "provenance": [],
      "include_colab_link": true
    }
  },
  "nbformat": 4,
  "nbformat_minor": 0
}