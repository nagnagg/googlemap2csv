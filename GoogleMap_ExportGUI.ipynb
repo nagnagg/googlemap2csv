{
  "cells": [
    {
      "cell_type": "markdown",
      "metadata": {
        "id": "view-in-github",
        "colab_type": "text"
      },
      "source": [
        "<a href=\"https://colab.research.google.com/github/nagnagg/googlemap_export/blob/main/GoogleMap_ExportGUI.ipynb\" target=\"_parent\"><img src=\"https://colab.research.google.com/assets/colab-badge.svg\" alt=\"Open In Colab\"/></a>"
      ]
    },
    {
      "cell_type": "code",
      "execution_count": null,
      "metadata": {
        "id": "bQeYNEIPikfg"
      },
      "outputs": [],
      "source": [
        "#==========================================================================================================\n",
        "# GUIでパラメータ入力をユーザーにしてもらい、その結果をpyで受け取り、\n",
        "# 2022/06/09 CREATED BY THK/NAG\n",
        "# ****/**/** UPDATED BY ***/******\n",
        "#==========================================================================================================\n",
        "import os\n",
        "import sys\n",
        "import tkinter\n",
        "import pathlib"
      ]
    },
    {
      "cell_type": "code",
      "execution_count": null,
      "metadata": {
        "id": "ij76ux0sikfm",
        "outputId": "336f0820-fcd5-45cb-86ce-b92e1a11b0ad"
      },
      "outputs": [
        {
          "data": {
            "text/plain": [
              "''"
            ]
          },
          "execution_count": 138,
          "metadata": {},
          "output_type": "execute_result"
        }
      ],
      "source": [
        "#================================================\n",
        "# Frame画面作成\n",
        "#================================================\n",
        "tki = tkinter.Tk()\n",
        "tki.geometry('600x250')\n",
        "tki.title('データダウンロード対象の指定')"
      ]
    },
    {
      "cell_type": "code",
      "execution_count": null,
      "metadata": {
        "id": "pNU7LgpSikfo"
      },
      "outputs": [],
      "source": [
        "#================================================\n",
        "# 関数定義\n",
        "#================================================\n",
        "#チェック＝コマンド確認\n",
        "def btn_click1_1():\n",
        "    text_clr = \"\"\n",
        "    txt_6.insert(0, text_clr)\n",
        "    \n",
        "def openCmd():\n",
        "    pipinst = \"pip install googlemaps\"\n",
        "    os.system(pipinst)\n",
        "    command = \"python d:/jtug/TOD/googlemap_export.py \"  + txt_1.get() + \" \" + txt_2.get() + \" \" + txt_3.get() + \" \" + txt_4.get()\n",
        "    os.system(command)\n"
      ]
    },
    {
      "cell_type": "code",
      "execution_count": null,
      "metadata": {
        "id": "UlrS8a0aikfp"
      },
      "outputs": [],
      "source": [
        "#================================================\n",
        "# テキストラベル\n",
        "#================================================\n",
        "lbl_1 = tkinter.Label(text='API Key')\n",
        "lbl_1.place(x=30, y=10)\n",
        "lbl_2 = tkinter.Label(text='Keyword 1')\n",
        "lbl_2.place(x=30, y=30)\n",
        "lbl_3 = tkinter.Label(text='Keyword 2')\n",
        "lbl_3.place(x=30, y=50)\n",
        "lbl_4 = tkinter.Label(text='Radius')\n",
        "lbl_4.place(x=30, y=70)"
      ]
    },
    {
      "cell_type": "code",
      "execution_count": null,
      "metadata": {
        "id": "ZYkSUQzHikfq"
      },
      "outputs": [],
      "source": [
        "#================================================\n",
        "# テキストボックス method Entryで入力\n",
        "#================================================\n",
        "txt_1 = tkinter.Entry(show='*' , width=30)\n",
        "txt_1.insert(0, \"\")\n",
        "txt_1.place(x=90, y=10)\n",
        "\n",
        "txt_2 = tkinter.Entry(width=30)\n",
        "txt_2.insert(0, \"八王子\")\n",
        "txt_2.place(x=90, y=30)\n",
        "\n",
        "txt_3 = tkinter.Entry(width=30)\n",
        "txt_3.insert(0, \"ラーメン\")\n",
        "txt_3.place(x=90, y=50)\n",
        "\n",
        "txt_4 = tkinter.Entry(width=30)\n",
        "txt_4.insert(0, 100000)\n",
        "txt_4.place(x=90, y=70)"
      ]
    },
    {
      "cell_type": "code",
      "execution_count": null,
      "metadata": {
        "id": "GOuxFTGiikfr"
      },
      "outputs": [],
      "source": [
        "#================================================\n",
        "# ボタン\n",
        "#================================================\n",
        "#Buttonメソッドのcommandオプションでdestroyすると閉じられる。他にも方法あり。\n",
        "btn2 = tkinter.Button(tki, text='キャンセル', command = tki.destroy)\n",
        "btn2.place(x=250, y=170, width=85)\n",
        "\n",
        "btn3 = tkinter.Button(tki, text='ダウンロード実行', command=openCmd)\n",
        "btn3.place(x=350, y=170, width=85)\n",
        "\n",
        "tki.mainloop()"
      ]
    }
  ],
  "metadata": {
    "kernelspec": {
      "display_name": "Python 3",
      "language": "python",
      "name": "python3"
    },
    "language_info": {
      "codemirror_mode": {
        "name": "ipython",
        "version": 3
      },
      "file_extension": ".py",
      "mimetype": "text/x-python",
      "name": "python",
      "nbconvert_exporter": "python",
      "pygments_lexer": "ipython3",
      "version": "3.7.4"
    },
    "colab": {
      "name": "GoogleMap_ExportGUI.ipynb",
      "provenance": [],
      "include_colab_link": true
    }
  },
  "nbformat": 4,
  "nbformat_minor": 0
}